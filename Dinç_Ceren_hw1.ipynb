{
  "nbformat": 4,
  "nbformat_minor": 0,
  "metadata": {
    "colab": {
      "name": "Dinç_Ceren_hw1",
      "provenance": [],
      "collapsed_sections": [],
      "include_colab_link": true
    },
    "kernelspec": {
      "name": "python3",
      "display_name": "Python 3"
    }
  },
  "cells": [
    {
      "cell_type": "markdown",
      "metadata": {
        "id": "view-in-github",
        "colab_type": "text"
      },
      "source": [
        "<a href=\"https://colab.research.google.com/github/cerendinc1/CS210-homeworks/blob/main/Din%C3%A7_Ceren_hw1.ipynb\" target=\"_parent\"><img src=\"https://colab.research.google.com/assets/colab-badge.svg\" alt=\"Open In Colab\"/></a>"
      ]
    },
    {
      "cell_type": "markdown",
      "metadata": {
        "id": "JD9gUM7WW8iT"
      },
      "source": [
        "# Homework 1 - Practicing Python\n",
        "\n",
        "\n",
        "*In the first homework, you are going to work on a set of Python exercises.*\n",
        "\n",
        "**Submission Instructions**\n",
        "\n",
        "---\n",
        "It is important that you follow the submission instructions. \n",
        "1. Copy this assignment notebook to your Drive. <font color = 'red'> `File` --> `Save a copy in Drive`</font>. Rename it as <font color = 'green'>`Lastname_Firstname_hw1`</font>.\n",
        "\n",
        "2. Write your solutions in the cells  marked <font color = 'green'>`# your code`</font>.\n",
        "\n",
        "3. Do not delete your outputs. They are essential for the grading. Make sure that cells containing your solutions are executed, and the results are displayed on the notebook.\n",
        "\n",
        "4. When you're done please submit your solutions as an <font color=\"red\">`.ipynb`</font> file. To do so:\n",
        "\n",
        "\n",
        "  a. Click on <font color=\"red\">`File`</font>  at the top left on the Colab screen, then click on <font color = 'red'>`Download .ipynb`</font>.\n",
        "\n",
        "  b. Then submit the downloaded <font color=\"red\">`.ipynb`</font> version of your work on SUCourse.\n",
        "\n",
        "\n",
        "For any question, you may send an email to the TAs and LAs.\n",
        "\n",
        "---\n",
        "\n",
        "**Important Note:**   \n",
        "In this homework, you do not need to use any libraries than the built-in ones. Hence, you are not allowed to use any libraries, other than the [`pprint`](https://docs.python.org/3/library/pprint.html) library to produce better looking outputs. If you have doubt on what to use what not to use please ask your question in the SuCourse Homework Q&A forum."
      ]
    },
    {
      "cell_type": "markdown",
      "metadata": {
        "id": "rYfw-eaiBOBJ"
      },
      "source": [
        "## 15 points - Q1: Find the Office Hour, Given the TA\n",
        "\n",
        "In the cell below, you have three lists containing the TA names and their day of office hour in the same order.\n",
        "\n",
        "Here, your goal is to write a fuction named `TA_day` that will return the day and hour of a particular TA. E.g.,\n",
        "\n",
        "```py\n",
        ">>> TA_day(TA_name='Ozgur Can Seckin')\n",
        "Tuesday, 17:40-18:30\n",
        "```\n",
        "\n",
        "After defining your function as such, please find the day and hour for **Mutlu Soruklu**"
      ]
    },
    {
      "cell_type": "code",
      "metadata": {
        "id": "_RCO6nIyEpv1"
      },
      "source": [
        "TA_names = ['Ege Alpay', 'Hasan Alp Boz', 'Mutlu Soruklu', 'Ozgur Can Seckin']\n",
        "office_days = ['Friday', 'Tuesday', 'Monday', 'Tuesday']\n",
        "office_hours = ['18:40 - 19:30', '9:40-10:30', '17:40 - 18:30', '17:40 - 18:30']"
      ],
      "execution_count": null,
      "outputs": []
    },
    {
      "cell_type": "code",
      "metadata": {
        "id": "VsigiNj3FzgF",
        "colab": {
          "base_uri": "https://localhost:8080/"
        },
        "outputId": "8808e751-2c56-4fe1-9159-892b75f1e6ed"
      },
      "source": [
        "# your code\n",
        "def TA_day(search):\n",
        "  for name, day, hour in zip(TA_names, office_days, office_hours):\n",
        "    if name == search:\n",
        "      return(day, hour)\n",
        "    \n",
        "\n",
        "search = input(\"Enter a TA name: \")\n",
        "TA_day(search)"
      ],
      "execution_count": null,
      "outputs": [
        {
          "name": "stdout",
          "output_type": "stream",
          "text": [
            "Enter a TA name: Mutlu Soruklu\n"
          ]
        },
        {
          "output_type": "execute_result",
          "data": {
            "text/plain": [
              "('Monday', '17:40 - 18:30')"
            ]
          },
          "metadata": {},
          "execution_count": 14
        }
      ]
    },
    {
      "cell_type": "markdown",
      "metadata": {
        "id": "DwskSV1dAeoR"
      },
      "source": [
        "## 30 points - Q2: Inflation Rates\n",
        "\n",
        "Inflation rates measured by consumer price index for 38 distinct countries and OECD average were taken from:\n",
        "https://data.oecd.org/price/inflation-cpi.htm\n",
        "\n",
        "Each line stores the country name, year and related inflation rate, seperated by a **semicolon**.\n",
        "\n",
        "In total, we have 195 lines where the inflation rates are given for years between 2016 and 2020.\n",
        "\n",
        "\n",
        "<img src=\"https://i.ibb.co/bBzypPS/Q2-OECD.png\"></img>\n",
        "\n",
        "*Do not forget to add the shared file and then mount to your drive. Otherwise, you won't be able to read the file. If you do not know how, please go back to Week 1 videos.*\n",
        "\n",
        "**Attention: You may want to transform the string to numbers by using float() function**"
      ]
    },
    {
      "cell_type": "markdown",
      "metadata": {
        "id": "EJdIEenmj6W_"
      },
      "source": [
        "### 15 points - **Part A**\n",
        "In this part, you should - by using the inflation_data.csv file under assignment folder:\n",
        "1. Find the **mean inflation rates** for Turkey and Germany (denoted as TUR and DEU in the data, respectively) between years 2016 and 2020 and print the results.\n",
        "2. Calculate the **difference between means** and print the result.\n",
        "\n",
        "![](https://i.ibb.co/L0JTk8V/Q2-OECD.png)"
      ]
    },
    {
      "cell_type": "code",
      "metadata": {
        "id": "tbaryKClTz5Z",
        "colab": {
          "base_uri": "https://localhost:8080/"
        },
        "outputId": "7b6406d0-af2e-43f1-e1bc-c984f9cb0399"
      },
      "source": [
        "from google.colab import drive\n",
        "drive.mount(\"./drive/\", force_remount=True)"
      ],
      "execution_count": null,
      "outputs": [
        {
          "output_type": "stream",
          "name": "stdout",
          "text": [
            "Mounted at ./drive/\n"
          ]
        }
      ]
    },
    {
      "cell_type": "code",
      "metadata": {
        "id": "NnRDeA3_SPi0"
      },
      "source": [
        "# your code\n",
        "\n",
        "from os.path import join\n",
        "\n",
        "path_prefix = \"./drive/My Drive\""
      ],
      "execution_count": null,
      "outputs": []
    },
    {
      "cell_type": "code",
      "source": [
        "filename = \"inflation_data.csv\"\n",
        "with open(join(path_prefix,filename),\"r\") as f:\n",
        "  tur = 0\n",
        "  deu = 0\n",
        "  countryArr = []\n",
        "  yearArr = []\n",
        "  infArr = []\n",
        "  for line in f:\n",
        "    l = line.strip().split(\";\")\n",
        "    country = l[0]\n",
        "    countryArr.append(country)\n",
        "    year = float(l[1])\n",
        "    yearArr.append(year)\n",
        "    l[2] = l[2].replace(\",\", \".\")\n",
        "    inf = float(l[2])\n",
        "    infArr.append(inf)\n",
        "    if country == \"TUR\":\n",
        "      tur += inf\n",
        "    elif country == \"DEU\":\n",
        "      deu += inf\n",
        "  tur_inf = tur / 5\n",
        "  deu_inf = deu / 5\n",
        "  print(\"turkey inf: {}\".format(tur_inf))\n",
        "  print(\"deutschland inf: {}\".format(deu_inf))\n",
        "  print(\"difference: {}\".format(tur_inf - deu_inf))"
      ],
      "metadata": {
        "colab": {
          "base_uri": "https://localhost:8080/"
        },
        "id": "X1H8mPvMImTT",
        "outputId": "08640c90-516b-4e00-abb9-7b3a94408a0e"
      },
      "execution_count": null,
      "outputs": [
        {
          "output_type": "stream",
          "name": "stdout",
          "text": [
            "turkey inf: 12.5415368\n",
            "deutschland inf: 1.1371541\n",
            "difference: 11.4043827\n"
          ]
        }
      ]
    },
    {
      "cell_type": "markdown",
      "metadata": {
        "id": "pIBUWMoXSSwr"
      },
      "source": [
        "### 15 points - **Part B**\n",
        "\n",
        "Find the country with the minimum mean inflation rate (note that it might be negative!)\n",
        "\n",
        "![](https://i.ibb.co/hBsTWvs/Q2-OECD-2.png)"
      ]
    },
    {
      "cell_type": "code",
      "source": [
        "minCountry = countryArr[0]\n",
        "total = 0\n",
        "infMean = []\n",
        "countUnique = []\n",
        "countUnique.append(countryArr[0])\n",
        "for c, y, i in zip(countryArr, yearArr, infArr):\n",
        "  if c == minCountry:\n",
        "    total += i\n",
        "  else:\n",
        "    infMean.append(total/5)\n",
        "    total = 0\n",
        "    minCountry = c\n",
        "    total += i\n",
        "    countUnique.append(c)\n",
        "infMean.append(total/5)\n",
        "\n",
        "for c, i in zip(countUnique, infMean):\n",
        "  if i == min(infMean):\n",
        "    print(\"country with min inflation: {}, its rate: {}\".format(c,i))"
      ],
      "metadata": {
        "colab": {
          "base_uri": "https://localhost:8080/"
        },
        "id": "3yYpd5EIUNk2",
        "outputId": "6ee17081-e927-43c9-eae9-dc69b6df77a2"
      },
      "execution_count": null,
      "outputs": [
        {
          "output_type": "stream",
          "name": "stdout",
          "text": [
            "country with min inflation: GRC, its rate: -0.014751480000000016\n"
          ]
        }
      ]
    },
    {
      "cell_type": "markdown",
      "metadata": {
        "id": "srIzF7eJYUAW"
      },
      "source": [
        "## 25 points - Q3: Transposing a List of Lists\n",
        "\n",
        "List/array reshaping is one of the most fundamental operations in data manipulation. In the figure below, you see a 4x3 dimensional list of lists (a list that contains lists) named `arr` that has integers from 1 to 12. We can take the transpose of this 4x3 list and transform it into a 3x4 list. \n",
        "\n",
        "![](https://i.ibb.co/K7CXTZX/Q3-transposed.png)\n",
        "\n",
        "By referencing the figure above, write a function named `transpose` which will take the transpose of the desired matrix. At the end, it should return the resulting matrix.\n",
        "\n",
        "```py\n",
        ">>> arr = [[1, 2, 3, 4], [5, 6, 7, 8], [9, 10, 11, 12]]\n",
        ">>> transpose(arr)\n",
        "[[1, 5, 9], [2, 6, 10], [3, 7, 11], [4, 8, 12]]\n",
        "```\n",
        "\n",
        "If the given list of lists does not represent a proper matrix (e.g., [[1,2], [3,4,5]] then, it should return \"Not a proper matrix\"\n",
        "\n",
        "```py\n",
        ">>> arr = [[1, 2, 3], [5, 6]]\n",
        ">>> transpose(arr)\n",
        "\"Not a proper matrix\"\n",
        "```"
      ]
    },
    {
      "cell_type": "code",
      "metadata": {
        "id": "iZgKbmvbZM61",
        "colab": {
          "base_uri": "https://localhost:8080/",
          "height": 53
        },
        "outputId": "15ff4f2c-ec57-42c4-cc0a-83ba6e4400e1"
      },
      "source": [
        "\n",
        "# your code\n",
        "\n",
        "def transpose(arr):\n",
        "  row = len(arr)\n",
        "  col = len(arr[0])\n",
        "  for i in arr:\n",
        "    if len(i) != col:\n",
        "      return \"Not a proper matrix\"\n",
        "  mtx = []\n",
        "  for a in range(col):\n",
        "    r = []\n",
        "    for b in range(row):\n",
        "      r.append(arr[b][a])\n",
        "    mtx.append(r)\n",
        "  print(mtx)\n",
        "  return(mtx)\n",
        "\n",
        "arr = [[1, 2, 3, 4], [5, 6, 7, 8], [9, 10, 11, 12]]\n",
        "arr2 = [[1, 2, 3, 4], [5, 6, 7, 8], [9, 10, 11, 12, 88]]\n",
        "transpose(arr)\n",
        "transpose(arr2)"
      ],
      "execution_count": null,
      "outputs": [
        {
          "output_type": "stream",
          "name": "stdout",
          "text": [
            "[[1, 5, 9], [2, 6, 10], [3, 7, 11], [4, 8, 12]]\n"
          ]
        },
        {
          "output_type": "execute_result",
          "data": {
            "text/plain": [
              "'Not a proper matrix'"
            ],
            "application/vnd.google.colaboratory.intrinsic+json": {
              "type": "string"
            }
          },
          "metadata": {},
          "execution_count": 120
        }
      ]
    },
    {
      "cell_type": "markdown",
      "metadata": {
        "id": "_0FzjI4Li18J"
      },
      "source": [
        "## 30 points - Q4: Most Frequent Bigram in a File\n",
        "\n",
        "`A pair of consecutive written words is called a bigram. For instance, if we were to find the bigrams in the sentence \"The quick brown fox jumps over the lazy dog.\", we would get [\"The quick\", \"quick brown\", \"brown fox\", ... \"the lazy\", \"lazy dog.\"]`\n",
        "\n",
        "In the assignment folder, you have a file named `best_song.txt` which stores the lyrics to the best song ever written by anyone:\n",
        "https://i.ibb.co/cb4B8sy/best-song.jpg\n",
        "\n",
        "Write a function named `most_used_bigram` which will take a file name as its single parameter and then reads and returns the **most frequently used bigram** and **how many times it has occurred** in the text.\n",
        "\n",
        "```py\n",
        ">>> most_used, times_used = most_used_bigram(\"best_song.txt\")\n",
        "```\n",
        "\n",
        "*Do not forget to add the shared file and then mount to your drive. Otherwise, you won't be able to read the file.*"
      ]
    },
    {
      "cell_type": "code",
      "metadata": {
        "id": "DEQOU3viZAfj",
        "colab": {
          "base_uri": "https://localhost:8080/"
        },
        "outputId": "ec84319e-cdb6-461d-d8ac-beb5bc4c0075"
      },
      "source": [
        "# Your code\n",
        "def most_used_bigram(filename):\n",
        "  arr = []\n",
        "  with open(join(path_prefix,filename),\"r\") as f:\n",
        "    for line in f:\n",
        "      l = line.strip().split(\"\\n\")\n",
        "      arr.append(l)\n",
        "    song = [i for row in arr for i in row]\n",
        "    sentence = \"\"\n",
        "    for i in range(len(song)):\n",
        "      sentence += song[i] + \" \"\n",
        "    sentence = sentence[:-1]\n",
        "    words = []\n",
        "    words.append(sentence.strip().split(\" \"))\n",
        "    words = words[0]\n",
        "    bigram = []\n",
        "    sentence = \"\"\n",
        "    for i in range(len(words)-1):\n",
        "      sentence = words[i] + \" \" + words[i+1]\n",
        "      bigram.append(sentence)\n",
        "      sentence = \"\"\n",
        "    print(max(set(bigram), key = bigram.count))\n",
        "    print(bigram.count(max(set(bigram), key = bigram.count)))\n",
        "    \n",
        "most_used_bigram(\"best_song.txt\")"
      ],
      "execution_count": null,
      "outputs": [
        {
          "output_type": "stream",
          "name": "stdout",
          "text": [
            "Never gonna\n",
            "36\n"
          ]
        }
      ]
    },
    {
      "cell_type": "code",
      "source": [
        ""
      ],
      "metadata": {
        "id": "LyfHrVsU6FIH"
      },
      "execution_count": null,
      "outputs": []
    }
  ]
}