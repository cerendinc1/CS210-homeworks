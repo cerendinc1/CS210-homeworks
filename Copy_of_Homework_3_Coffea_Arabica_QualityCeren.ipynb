{
  "nbformat": 4,
  "nbformat_minor": 0,
  "metadata": {
    "colab": {
      "name": "Copy of Homework 3: Coffea Arabica QualityCero.ipynb",
      "provenance": [],
      "collapsed_sections": [],
      "include_colab_link": true
    },
    "kernelspec": {
      "name": "python3",
      "display_name": "Python 3"
    },
    "language_info": {
      "name": "python"
    }
  },
  "cells": [
    {
      "cell_type": "markdown",
      "metadata": {
        "id": "view-in-github",
        "colab_type": "text"
      },
      "source": [
        "<a href=\"https://colab.research.google.com/github/cerendinc1/CS210-homeworks/blob/main/Copy_of_Homework_3_Coffea_Arabica_QualityCero.ipynb\" target=\"_parent\"><img src=\"https://colab.research.google.com/assets/colab-badge.svg\" alt=\"Open In Colab\"/></a>"
      ]
    },
    {
      "cell_type": "markdown",
      "metadata": {
        "id": "ldMgDPWh6KZJ"
      },
      "source": [
        "#Homework 3: Coffea Arabica Quality\n",
        "\n",
        "*In this homework, you are going to work with the coffea arabica quality  dataset.*\n",
        "\n",
        "**Submission Instructions**\n",
        "\n",
        "---\n",
        "It is important that you follow the submission instructions. \n",
        "1. Copy this assignment notebook to your Drive. <font color = 'red'> `File` --> `Save a copy in Drive`</font>. Rename it as <font color = 'green'>`Lastname_Firstname_hw3`</font>.\n",
        "\n",
        "2. Write your solutions in the cells  marked <font color = 'green'>`# your code`</font>.\n",
        "\n",
        "3. **Do not delete your outputs. They are essential for the grading. Make sure that cells containing your solutions are executed, and the results are displayed in the notebook.**\n",
        "\n",
        "4. When you're done, please submit your solutions as an <font color=\"red\">`.ipynb`</font> file. To do so:\n",
        "\n",
        "\n",
        "*   Click on <font color=\"red\">`File`</font>  at the top left on the Colab screen, then click on <font color = 'red'>`Download .ipynb`</font>.\n",
        "*   Then submit the downloaded <font color=\"red\">`.ipynb`</font> version of your work on SUCourse.\n",
        "\n",
        "For any question, you may send an email to the TAs and LAs.\n",
        "\n",
        "---"
      ]
    },
    {
      "cell_type": "markdown",
      "metadata": {
        "id": "pSp2PnhBSssR"
      },
      "source": [
        "In this homework, you will work on a dataset about [Coffea Arabica Quality](https://github.com/jldbc/coffee-quality-database). \n",
        "\n",
        "For this homework, you will use the provided file `arabica_data.csv`. This is a cleaned and updated version of the original dataset, which contains information of arabica coffee beans from the Coffee Quality Institute's trained reviewers.\n",
        "\n",
        "\n",
        "Below, you can find all the set of features, provided in the dataset:\n",
        "*   **Quality Measures**\n",
        "    * Aroma\n",
        "    * Flavor\n",
        "    * Aftertaste\n",
        "    * Acidity\n",
        "    * Body\n",
        "    * Balance\n",
        "    * Uniformity\n",
        "    * Clean.Cup\n",
        "    * Sweetness\n",
        "    * Cupper.Points\t\n",
        "    * Moisture\n",
        "\n",
        "\n",
        "*   **Bean Metadata**\n",
        "    * Processing.Method\n",
        "    * Color\n",
        "    * Harvest.Year\n",
        "    * Grading.Date\n",
        "\n",
        "*   **Farm Metadata**\n",
        "    * Owner\n",
        "    * Country.of.Origin\n",
        "    * Farm.Name\n",
        "    * Lot.Number\n",
        "    * Mill\n",
        "    * Company\n",
        "    * Region\n",
        "    * Producer\n",
        "    * Altitude\n",
        "\n",
        "*Do not forget to add the shared `arabica_data.csv` file to your drive and mount to your drive. Otherwise, you won't be able to read the file.*"
      ]
    },
    {
      "cell_type": "code",
      "metadata": {
        "colab": {
          "base_uri": "https://localhost:8080/"
        },
        "id": "C3MOsDPfwG6u",
        "outputId": "4e11ba42-c249-407e-8dff-526f1530f334"
      },
      "source": [
        "from google.colab import drive\n",
        "drive.mount(\"./drive\")\n",
        "\n",
        "path_prefix = \"./drive/My Drive\""
      ],
      "execution_count": null,
      "outputs": [
        {
          "output_type": "stream",
          "name": "stdout",
          "text": [
            "Mounted at ./drive\n"
          ]
        }
      ]
    },
    {
      "cell_type": "code",
      "metadata": {
        "id": "Y5IZcvlawG9y"
      },
      "source": [
        "import pandas as pd\n",
        "import numpy as np\n",
        "import matplotlib.pyplot as plt\n",
        "from os.path import join\n",
        "import seaborn as sns\n",
        "\n",
        "%matplotlib inline"
      ],
      "execution_count": null,
      "outputs": []
    },
    {
      "cell_type": "code",
      "metadata": {
        "colab": {
          "base_uri": "https://localhost:8080/",
          "height": 310
        },
        "id": "KlHxT8RbwHMJ",
        "outputId": "5ba80d45-a7d3-4cf6-fcce-41672e5b681b"
      },
      "source": [
        "fname = \"arabica_data.csv\"\n",
        "df = pd.read_csv(join(path_prefix, fname))\n",
        "df.head(2)"
      ],
      "execution_count": null,
      "outputs": [
        {
          "output_type": "execute_result",
          "data": {
            "text/plain": [
              "       Owner Country.of.Origin  Farm.Name Lot.Number       Mill  \\\n",
              "0  metad plc          Ethiopia  metad plc        NaN  metad plc   \n",
              "1  metad plc          Ethiopia  metad plc        NaN  metad plc   \n",
              "\n",
              "                             Company        Region   Producer Harvest.Year  \\\n",
              "0  metad agricultural developmet plc  guji-hambela  METAD PLC         2014   \n",
              "1  metad agricultural developmet plc  guji-hambela  METAD PLC         2014   \n",
              "\n",
              "      Grading.Date  ... Uniformity  Clean.Cup  Sweetness  Cupper.Points  \\\n",
              "0  April 4th, 2015  ...       10.0       10.0       10.0       7.815878   \n",
              "1  April 4th, 2015  ...       10.0       10.0       10.0       8.545422   \n",
              "\n",
              "   Moisture  Color  unit_of_measurement  altitude_low_meters  \\\n",
              "0      0.12  Green                    m               1950.0   \n",
              "1      0.12  Green                    m               1950.0   \n",
              "\n",
              "   altitude_high_meters  altitude_mean_meters  \n",
              "0                2200.0                2075.0  \n",
              "1                2200.0                2075.0  \n",
              "\n",
              "[2 rows x 27 columns]"
            ],
            "text/html": [
              "\n",
              "  <div id=\"df-366d3808-4320-4e58-8abc-a94453bbd90a\">\n",
              "    <div class=\"colab-df-container\">\n",
              "      <div>\n",
              "<style scoped>\n",
              "    .dataframe tbody tr th:only-of-type {\n",
              "        vertical-align: middle;\n",
              "    }\n",
              "\n",
              "    .dataframe tbody tr th {\n",
              "        vertical-align: top;\n",
              "    }\n",
              "\n",
              "    .dataframe thead th {\n",
              "        text-align: right;\n",
              "    }\n",
              "</style>\n",
              "<table border=\"1\" class=\"dataframe\">\n",
              "  <thead>\n",
              "    <tr style=\"text-align: right;\">\n",
              "      <th></th>\n",
              "      <th>Owner</th>\n",
              "      <th>Country.of.Origin</th>\n",
              "      <th>Farm.Name</th>\n",
              "      <th>Lot.Number</th>\n",
              "      <th>Mill</th>\n",
              "      <th>Company</th>\n",
              "      <th>Region</th>\n",
              "      <th>Producer</th>\n",
              "      <th>Harvest.Year</th>\n",
              "      <th>Grading.Date</th>\n",
              "      <th>...</th>\n",
              "      <th>Uniformity</th>\n",
              "      <th>Clean.Cup</th>\n",
              "      <th>Sweetness</th>\n",
              "      <th>Cupper.Points</th>\n",
              "      <th>Moisture</th>\n",
              "      <th>Color</th>\n",
              "      <th>unit_of_measurement</th>\n",
              "      <th>altitude_low_meters</th>\n",
              "      <th>altitude_high_meters</th>\n",
              "      <th>altitude_mean_meters</th>\n",
              "    </tr>\n",
              "  </thead>\n",
              "  <tbody>\n",
              "    <tr>\n",
              "      <th>0</th>\n",
              "      <td>metad plc</td>\n",
              "      <td>Ethiopia</td>\n",
              "      <td>metad plc</td>\n",
              "      <td>NaN</td>\n",
              "      <td>metad plc</td>\n",
              "      <td>metad agricultural developmet plc</td>\n",
              "      <td>guji-hambela</td>\n",
              "      <td>METAD PLC</td>\n",
              "      <td>2014</td>\n",
              "      <td>April 4th, 2015</td>\n",
              "      <td>...</td>\n",
              "      <td>10.0</td>\n",
              "      <td>10.0</td>\n",
              "      <td>10.0</td>\n",
              "      <td>7.815878</td>\n",
              "      <td>0.12</td>\n",
              "      <td>Green</td>\n",
              "      <td>m</td>\n",
              "      <td>1950.0</td>\n",
              "      <td>2200.0</td>\n",
              "      <td>2075.0</td>\n",
              "    </tr>\n",
              "    <tr>\n",
              "      <th>1</th>\n",
              "      <td>metad plc</td>\n",
              "      <td>Ethiopia</td>\n",
              "      <td>metad plc</td>\n",
              "      <td>NaN</td>\n",
              "      <td>metad plc</td>\n",
              "      <td>metad agricultural developmet plc</td>\n",
              "      <td>guji-hambela</td>\n",
              "      <td>METAD PLC</td>\n",
              "      <td>2014</td>\n",
              "      <td>April 4th, 2015</td>\n",
              "      <td>...</td>\n",
              "      <td>10.0</td>\n",
              "      <td>10.0</td>\n",
              "      <td>10.0</td>\n",
              "      <td>8.545422</td>\n",
              "      <td>0.12</td>\n",
              "      <td>Green</td>\n",
              "      <td>m</td>\n",
              "      <td>1950.0</td>\n",
              "      <td>2200.0</td>\n",
              "      <td>2075.0</td>\n",
              "    </tr>\n",
              "  </tbody>\n",
              "</table>\n",
              "<p>2 rows × 27 columns</p>\n",
              "</div>\n",
              "      <button class=\"colab-df-convert\" onclick=\"convertToInteractive('df-366d3808-4320-4e58-8abc-a94453bbd90a')\"\n",
              "              title=\"Convert this dataframe to an interactive table.\"\n",
              "              style=\"display:none;\">\n",
              "        \n",
              "  <svg xmlns=\"http://www.w3.org/2000/svg\" height=\"24px\"viewBox=\"0 0 24 24\"\n",
              "       width=\"24px\">\n",
              "    <path d=\"M0 0h24v24H0V0z\" fill=\"none\"/>\n",
              "    <path d=\"M18.56 5.44l.94 2.06.94-2.06 2.06-.94-2.06-.94-.94-2.06-.94 2.06-2.06.94zm-11 1L8.5 8.5l.94-2.06 2.06-.94-2.06-.94L8.5 2.5l-.94 2.06-2.06.94zm10 10l.94 2.06.94-2.06 2.06-.94-2.06-.94-.94-2.06-.94 2.06-2.06.94z\"/><path d=\"M17.41 7.96l-1.37-1.37c-.4-.4-.92-.59-1.43-.59-.52 0-1.04.2-1.43.59L10.3 9.45l-7.72 7.72c-.78.78-.78 2.05 0 2.83L4 21.41c.39.39.9.59 1.41.59.51 0 1.02-.2 1.41-.59l7.78-7.78 2.81-2.81c.8-.78.8-2.07 0-2.86zM5.41 20L4 18.59l7.72-7.72 1.47 1.35L5.41 20z\"/>\n",
              "  </svg>\n",
              "      </button>\n",
              "      \n",
              "  <style>\n",
              "    .colab-df-container {\n",
              "      display:flex;\n",
              "      flex-wrap:wrap;\n",
              "      gap: 12px;\n",
              "    }\n",
              "\n",
              "    .colab-df-convert {\n",
              "      background-color: #E8F0FE;\n",
              "      border: none;\n",
              "      border-radius: 50%;\n",
              "      cursor: pointer;\n",
              "      display: none;\n",
              "      fill: #1967D2;\n",
              "      height: 32px;\n",
              "      padding: 0 0 0 0;\n",
              "      width: 32px;\n",
              "    }\n",
              "\n",
              "    .colab-df-convert:hover {\n",
              "      background-color: #E2EBFA;\n",
              "      box-shadow: 0px 1px 2px rgba(60, 64, 67, 0.3), 0px 1px 3px 1px rgba(60, 64, 67, 0.15);\n",
              "      fill: #174EA6;\n",
              "    }\n",
              "\n",
              "    [theme=dark] .colab-df-convert {\n",
              "      background-color: #3B4455;\n",
              "      fill: #D2E3FC;\n",
              "    }\n",
              "\n",
              "    [theme=dark] .colab-df-convert:hover {\n",
              "      background-color: #434B5C;\n",
              "      box-shadow: 0px 1px 3px 1px rgba(0, 0, 0, 0.15);\n",
              "      filter: drop-shadow(0px 1px 2px rgba(0, 0, 0, 0.3));\n",
              "      fill: #FFFFFF;\n",
              "    }\n",
              "  </style>\n",
              "\n",
              "      <script>\n",
              "        const buttonEl =\n",
              "          document.querySelector('#df-366d3808-4320-4e58-8abc-a94453bbd90a button.colab-df-convert');\n",
              "        buttonEl.style.display =\n",
              "          google.colab.kernel.accessAllowed ? 'block' : 'none';\n",
              "\n",
              "        async function convertToInteractive(key) {\n",
              "          const element = document.querySelector('#df-366d3808-4320-4e58-8abc-a94453bbd90a');\n",
              "          const dataTable =\n",
              "            await google.colab.kernel.invokeFunction('convertToInteractive',\n",
              "                                                     [key], {});\n",
              "          if (!dataTable) return;\n",
              "\n",
              "          const docLinkHtml = 'Like what you see? Visit the ' +\n",
              "            '<a target=\"_blank\" href=https://colab.research.google.com/notebooks/data_table.ipynb>data table notebook</a>'\n",
              "            + ' to learn more about interactive tables.';\n",
              "          element.innerHTML = '';\n",
              "          dataTable['output_type'] = 'display_data';\n",
              "          await google.colab.output.renderOutput(dataTable, element);\n",
              "          const docLink = document.createElement('div');\n",
              "          docLink.innerHTML = docLinkHtml;\n",
              "          element.appendChild(docLink);\n",
              "        }\n",
              "      </script>\n",
              "    </div>\n",
              "  </div>\n",
              "  "
            ]
          },
          "metadata": {},
          "execution_count": 225
        }
      ]
    },
    {
      "cell_type": "markdown",
      "metadata": {
        "id": "AMUEq6_B25Ca"
      },
      "source": [
        "# Q1: Removing Columns with High Missing Values (15 points)"
      ]
    },
    {
      "cell_type": "markdown",
      "metadata": {
        "id": "PJ9xipC15S97"
      },
      "source": [
        "It is not possible to find a perfect dataset. During data collection, some values can be lost. These lost values are called as missing values. In the DataFrame, missing values are usually labelled as `NaN`.\n",
        "\n",
        "In this question, you will remove the columns which contain high number of missing values. If the missing value percentage in a column is greater than or equal to 20%, you will drop that column. \n",
        "* First, print the number of columns in the dataset.\n",
        "* Secondly, if missing value percentage in a column is greater than or equal to 20%, print the name of the column and the percentage of missing values in that column. Also, remove this column from dataset.\n",
        "* Lastly, after removing columns, print the number of remaining columns in the dataset.\n",
        "\n",
        "Your output should be like:\n",
        "```\n",
        "Initially, there are [...] columns \n",
        "\n",
        "[...]% of the values are missing in [...] column\n",
        ".\n",
        ".\n",
        ".\n",
        "\n",
        "After removing columns with high missing value percentage, there are [...] columns \n",
        "```"
      ]
    },
    {
      "cell_type": "code",
      "metadata": {
        "id": "BjnEq-XZ3DoN",
        "colab": {
          "base_uri": "https://localhost:8080/"
        },
        "outputId": "785e5804-a12f-4ebb-be24-f28dfed28bf3"
      },
      "source": [
        "print(\"Initially, there are {} columns\".format(df.shape[1]))\n",
        "\n",
        "dropList = [i for i in df.columns if df.isna().sum()[i] > df.shape[0] / 5]\n",
        "\n",
        "for i in dropList:\n",
        "  print(\"{}% of the values are missing in {} column\".format(round(100*df.isna().sum()[i]/df.shape[0]), i))\n",
        "\n",
        "df = df.drop(axis=1, columns=dropList)\n",
        "print(\"After removing columns with high missing value percentage, there are\", df.shape[1], \"columns\")"
      ],
      "execution_count": null,
      "outputs": [
        {
          "output_type": "stream",
          "name": "stdout",
          "text": [
            "Initially, there are 27 columns\n",
            "27% of the values are missing in Farm.Name column\n",
            "79% of the values are missing in Lot.Number column\n",
            "24% of the values are missing in Mill column\n",
            "After removing columns with high missing value percentage, there are 24 columns\n"
          ]
        }
      ]
    },
    {
      "cell_type": "markdown",
      "metadata": {
        "id": "0iq_4ShLsihM"
      },
      "source": [
        "# Q2: Calculating Total Quality Score (10 points)"
      ]
    },
    {
      "cell_type": "markdown",
      "metadata": {
        "id": "TNAjk42TsnzY"
      },
      "source": [
        "There are several columns (Quality Measures) in the dataset that evaluates the quality of a coffee bean in different aspects. Unfortunately, dataset owner forgot to calculate the total quality score for each coffee bean. \n",
        "\n",
        "In this question, your task is to:\n",
        "* Create a new column called `Total Score` which will store the sum of values in `Quality Measure` columns. \n",
        "* Then, print basic statistics (mean, std, min, max, etc.) on `Total Score` column. Remember that there is function that you can use to achieve this goal.\n",
        "\n",
        "Your answer should be exactly same as the figure below:\n",
        "\n",
        "![](https://i.ibb.co/9vDpc7x/Screen-Shot-2021-11-08-at-21-08-14.png)"
      ]
    },
    {
      "cell_type": "code",
      "metadata": {
        "id": "LdS4rmDytk1A",
        "colab": {
          "base_uri": "https://localhost:8080/",
          "height": 300
        },
        "outputId": "ba5f536e-dc0d-4fe6-cef2-88df6f208309"
      },
      "source": [
        "df[\"Total Score\"] = df[[\"Aroma\", \"Flavor\", \"Aftertaste\", \"Acidity\", \"Body\", \"Balance\", \"Uniformity\", \"Clean.Cup\", \"Sweetness\", \"Cupper.Points\", \"Moisture\"]].sum(axis=1)\n",
        "df[[\"Total Score\"]].describe()"
      ],
      "execution_count": null,
      "outputs": [
        {
          "output_type": "execute_result",
          "data": {
            "text/plain": [
              "       Total Score\n",
              "count  1311.000000\n",
              "mean     84.553229\n",
              "std       3.526415\n",
              "min      51.713880\n",
              "25%      82.457379\n",
              "50%      84.726141\n",
              "75%      86.966816\n",
              "max      94.723712"
            ],
            "text/html": [
              "\n",
              "  <div id=\"df-7381df52-0550-40f8-bf4a-7c22c0fc0ff7\">\n",
              "    <div class=\"colab-df-container\">\n",
              "      <div>\n",
              "<style scoped>\n",
              "    .dataframe tbody tr th:only-of-type {\n",
              "        vertical-align: middle;\n",
              "    }\n",
              "\n",
              "    .dataframe tbody tr th {\n",
              "        vertical-align: top;\n",
              "    }\n",
              "\n",
              "    .dataframe thead th {\n",
              "        text-align: right;\n",
              "    }\n",
              "</style>\n",
              "<table border=\"1\" class=\"dataframe\">\n",
              "  <thead>\n",
              "    <tr style=\"text-align: right;\">\n",
              "      <th></th>\n",
              "      <th>Total Score</th>\n",
              "    </tr>\n",
              "  </thead>\n",
              "  <tbody>\n",
              "    <tr>\n",
              "      <th>count</th>\n",
              "      <td>1311.000000</td>\n",
              "    </tr>\n",
              "    <tr>\n",
              "      <th>mean</th>\n",
              "      <td>84.553229</td>\n",
              "    </tr>\n",
              "    <tr>\n",
              "      <th>std</th>\n",
              "      <td>3.526415</td>\n",
              "    </tr>\n",
              "    <tr>\n",
              "      <th>min</th>\n",
              "      <td>51.713880</td>\n",
              "    </tr>\n",
              "    <tr>\n",
              "      <th>25%</th>\n",
              "      <td>82.457379</td>\n",
              "    </tr>\n",
              "    <tr>\n",
              "      <th>50%</th>\n",
              "      <td>84.726141</td>\n",
              "    </tr>\n",
              "    <tr>\n",
              "      <th>75%</th>\n",
              "      <td>86.966816</td>\n",
              "    </tr>\n",
              "    <tr>\n",
              "      <th>max</th>\n",
              "      <td>94.723712</td>\n",
              "    </tr>\n",
              "  </tbody>\n",
              "</table>\n",
              "</div>\n",
              "      <button class=\"colab-df-convert\" onclick=\"convertToInteractive('df-7381df52-0550-40f8-bf4a-7c22c0fc0ff7')\"\n",
              "              title=\"Convert this dataframe to an interactive table.\"\n",
              "              style=\"display:none;\">\n",
              "        \n",
              "  <svg xmlns=\"http://www.w3.org/2000/svg\" height=\"24px\"viewBox=\"0 0 24 24\"\n",
              "       width=\"24px\">\n",
              "    <path d=\"M0 0h24v24H0V0z\" fill=\"none\"/>\n",
              "    <path d=\"M18.56 5.44l.94 2.06.94-2.06 2.06-.94-2.06-.94-.94-2.06-.94 2.06-2.06.94zm-11 1L8.5 8.5l.94-2.06 2.06-.94-2.06-.94L8.5 2.5l-.94 2.06-2.06.94zm10 10l.94 2.06.94-2.06 2.06-.94-2.06-.94-.94-2.06-.94 2.06-2.06.94z\"/><path d=\"M17.41 7.96l-1.37-1.37c-.4-.4-.92-.59-1.43-.59-.52 0-1.04.2-1.43.59L10.3 9.45l-7.72 7.72c-.78.78-.78 2.05 0 2.83L4 21.41c.39.39.9.59 1.41.59.51 0 1.02-.2 1.41-.59l7.78-7.78 2.81-2.81c.8-.78.8-2.07 0-2.86zM5.41 20L4 18.59l7.72-7.72 1.47 1.35L5.41 20z\"/>\n",
              "  </svg>\n",
              "      </button>\n",
              "      \n",
              "  <style>\n",
              "    .colab-df-container {\n",
              "      display:flex;\n",
              "      flex-wrap:wrap;\n",
              "      gap: 12px;\n",
              "    }\n",
              "\n",
              "    .colab-df-convert {\n",
              "      background-color: #E8F0FE;\n",
              "      border: none;\n",
              "      border-radius: 50%;\n",
              "      cursor: pointer;\n",
              "      display: none;\n",
              "      fill: #1967D2;\n",
              "      height: 32px;\n",
              "      padding: 0 0 0 0;\n",
              "      width: 32px;\n",
              "    }\n",
              "\n",
              "    .colab-df-convert:hover {\n",
              "      background-color: #E2EBFA;\n",
              "      box-shadow: 0px 1px 2px rgba(60, 64, 67, 0.3), 0px 1px 3px 1px rgba(60, 64, 67, 0.15);\n",
              "      fill: #174EA6;\n",
              "    }\n",
              "\n",
              "    [theme=dark] .colab-df-convert {\n",
              "      background-color: #3B4455;\n",
              "      fill: #D2E3FC;\n",
              "    }\n",
              "\n",
              "    [theme=dark] .colab-df-convert:hover {\n",
              "      background-color: #434B5C;\n",
              "      box-shadow: 0px 1px 3px 1px rgba(0, 0, 0, 0.15);\n",
              "      filter: drop-shadow(0px 1px 2px rgba(0, 0, 0, 0.3));\n",
              "      fill: #FFFFFF;\n",
              "    }\n",
              "  </style>\n",
              "\n",
              "      <script>\n",
              "        const buttonEl =\n",
              "          document.querySelector('#df-7381df52-0550-40f8-bf4a-7c22c0fc0ff7 button.colab-df-convert');\n",
              "        buttonEl.style.display =\n",
              "          google.colab.kernel.accessAllowed ? 'block' : 'none';\n",
              "\n",
              "        async function convertToInteractive(key) {\n",
              "          const element = document.querySelector('#df-7381df52-0550-40f8-bf4a-7c22c0fc0ff7');\n",
              "          const dataTable =\n",
              "            await google.colab.kernel.invokeFunction('convertToInteractive',\n",
              "                                                     [key], {});\n",
              "          if (!dataTable) return;\n",
              "\n",
              "          const docLinkHtml = 'Like what you see? Visit the ' +\n",
              "            '<a target=\"_blank\" href=https://colab.research.google.com/notebooks/data_table.ipynb>data table notebook</a>'\n",
              "            + ' to learn more about interactive tables.';\n",
              "          element.innerHTML = '';\n",
              "          dataTable['output_type'] = 'display_data';\n",
              "          await google.colab.output.renderOutput(dataTable, element);\n",
              "          const docLink = document.createElement('div');\n",
              "          docLink.innerHTML = docLinkHtml;\n",
              "          element.appendChild(docLink);\n",
              "        }\n",
              "      </script>\n",
              "    </div>\n",
              "  </div>\n",
              "  "
            ]
          },
          "metadata": {},
          "execution_count": 227
        }
      ]
    },
    {
      "cell_type": "markdown",
      "metadata": {
        "id": "WyMgH6DgoXxZ"
      },
      "source": [
        "# Q3: Unit Conversion (15 points)"
      ]
    },
    {
      "cell_type": "markdown",
      "metadata": {
        "id": "JCtZT13_waZ0"
      },
      "source": [
        "Altitude of the farm has a crucial affect on bean quality. High altitudes are considered ideal for growing the coffee plant, with cooler temperatures delaying the growth cycle whereas Low-altitude coffee plants produce higher yields due to faster ripening times, but the beans need to be treated differently than those from higher altitudes — all the way from roast to brew. In this dataset, altitude information for each coffee bean is shared. However, some of the altitude values are stored in metric system (meters) and some of them stored in imperial system (feet). \n",
        "\n",
        "In this question, you will convert values in `altitude_mean_meters` column from feet to meters. (As a side note, 1 Feet = 0.3048 Meters) You can use `unit_of_measurement` column to check which system was used for each bean.\n",
        "1. First of all, print the number of beans recorded in metric system. Then print the mean of `altitude_mean_meters` column for the beans recorded in metric system.\n",
        "2. Secondly, print the number of beans recorded in imperial system. Then print the mean of `altitude_mean_meters` column for the beans recorded in imperial system.\n",
        "3. Convert feet values to meters in `altitude_mean_meters` column.\n",
        "4. Lastly, print the mean of `altitude_mean_meters` column for all beans.\n",
        "\n",
        "At the end, your cell output should be exactly same as:\n",
        "```\n",
        "[...] beans are recorded in metric system\n",
        "Mean of altitude_mean_meters column, for the beans recorded in metric system:  [...]  meters\n",
        "\n",
        "[...] beans are recorded in imperial system\n",
        "Mean of altitude_mean_meters column, for the beans recorded in imperial system:  [...]  feet\n",
        "\n",
        "After unit conversion, Mean of altitude_mean_meters column for all beans:  [...]  meters\n",
        "```"
      ]
    },
    {
      "cell_type": "code",
      "metadata": {
        "id": "E8vpof6zocD2",
        "colab": {
          "base_uri": "https://localhost:8080/"
        },
        "outputId": "f00f6808-eca2-4492-a495-59648eb4955f"
      },
      "source": [
        "print(df[\"unit_of_measurement\"].value_counts()[\"m\"], \"beans are recorded in metric system\")\n",
        "print(\"Mean of altitude_mean_meters column, for the beans recorded in metric system:\", df[df[\"unit_of_measurement\"] == \"m\"][\"altitude_mean_meters\"].sum() / df[\"unit_of_measurement\"].value_counts()[\"m\"], \"meters\")\n",
        "print()\n",
        "print(df[\"unit_of_measurement\"].value_counts()[\"ft\"], \"beans are recorded in imperial system\")\n",
        "print(\"Mean of altitude_mean_meters column, for the beans recorded in metric system:\", df[df[\"unit_of_measurement\"] == \"ft\"][\"altitude_mean_meters\"].sum() / df[\"unit_of_measurement\"].value_counts()[\"ft\"], \"meters\")\n",
        "print()\n",
        "df[\"altitude_mean_meters\"] = df.apply(lambda i: i.altitude_mean_meters * 0.3048 if i.unit_of_measurement == \"ft\" else i.altitude_mean_meters, axis=1)\n",
        "print(\"After unit conversion, Mean of altitude_mean_meters column for all beans:\", df[\"altitude_mean_meters\"].sum() / len(df), \"meters\")\n"
      ],
      "execution_count": null,
      "outputs": [
        {
          "output_type": "stream",
          "name": "stdout",
          "text": [
            "1129 beans are recorded in metric system\n",
            "Mean of altitude_mean_meters column, for the beans recorded in metric system: 1586.8139946855624 meters\n",
            "\n",
            "182 beans are recorded in imperial system\n",
            "Mean of altitude_mean_meters column, for the beans recorded in metric system: 2349.8221054945056 meters\n",
            "\n",
            "After unit conversion, Mean of altitude_mean_meters column for all beans: 1465.9543032428378 meters\n"
          ]
        }
      ]
    },
    {
      "cell_type": "markdown",
      "metadata": {
        "id": "QEu3oe4B4Ji8"
      },
      "source": [
        "# Q4: Processing Method Distribution (15 points)"
      ]
    },
    {
      "cell_type": "markdown",
      "metadata": {
        "id": "EtM_EFk-6P1X"
      },
      "source": [
        "There are several methods for processing the coffee bean which effects the sweetness, body, and acidity of brewed coffee. In the dataset, `Processing.Method` column indicates the processing information for each coffee bean.\n",
        "\n",
        "Find the number of coffee beans in each `Processing.Method` and display their percentages as bar chart. \n",
        "\n",
        "*   Display the frequency of `NaN` values in `Processing.Method` column as bar called `Unknown`.\n",
        "*   Bars should be displayed in ascending order.\n",
        "*   Use `#A45D5D` color for bars and display white grids in each bar.\n",
        "*   Method names in X axis should be rotated by 30 degrees.\n",
        "*   Share percentages in Y axis should increase by 10%.\n",
        "\n",
        "The result should be exactly same as the figure below.\n",
        "\n",
        "![](https://i.ibb.co/PrgSTTq/download.png)"
      ]
    },
    {
      "cell_type": "code",
      "source": [
        "fig, ax = plt.subplots(figsize=(9,8))\n",
        "sorted_series = df[\"Processing.Method\"].value_counts() \n",
        "sorted_series[\"Unknown\"] = df[\"Processing.Method\"].isna().sum()\n",
        "sorted_series =  sorted_series *100 / df.shape[0]\n",
        "sorted_series.sort_values(ascending=True, inplace=True)\n",
        "sorted_series.plot.bar(ax=ax, color=\"#A45D5D\")\n",
        "ax.grid(axis=\"y\", color=\"w\")\n",
        "plt.xticks(rotation=30)\n",
        "ylocs = np.linspace(0, 60, 7)\n",
        "ax.set_yticks(ylocs)\n",
        "ax.set_yticklabels([f\"{i:.0f}%\" for i in ylocs])\n",
        "ax.set_ylabel(\"Share\")\n",
        "ax.set_title(\"Processing Method of Beans\")\n",
        "plt.show()"
      ],
      "metadata": {
        "colab": {
          "base_uri": "https://localhost:8080/",
          "height": 567
        },
        "id": "09Vnu_KnYcNE",
        "outputId": "f2063924-03c4-4723-edfa-129871ab41f4"
      },
      "execution_count": null,
      "outputs": [
        {
          "output_type": "display_data",
          "data": {
            "text/plain": [
              "<Figure size 648x576 with 1 Axes>"
            ],
            "image/png": "[encoded data removed]"
          },
          "metadata": {
            "needs_background": "light"
          }
        }
      ]
    },
    {
      "cell_type": "markdown",
      "metadata": {
        "id": "lYaEZ2_BB72H"
      },
      "source": [
        "# Q5: Body Distribution by Processing Method (15 points)"
      ]
    },
    {
      "cell_type": "markdown",
      "metadata": {
        "id": "hiR9NU8hmP7j"
      },
      "source": [
        "In the previous question, you have explored the distribution of processing methods of coffee beans in the dataset. In this question, you are going to explore the relationship between processing method and bean body rating by using violinplots. You can access processing method information from `Processing.Method` column and bean body rating from `Body` column.\n",
        "\n",
        "* `Processing.Method` categories in X axis should have ascending order w.r.t `Body` median. \n",
        "* Tick values in Y axis should be limited to two decimals points. As an example, value `8.888888889` should be converted to `8.88`. (`8.89` is also acceptable)\n",
        "* Display the median for each violinplot. Do not forget to add title and labels.\n",
        "\n",
        "The result should look like the figure below.\n",
        "![](https://i.ibb.co/qmywjHq/download-1.png)"
      ]
    },
    {
      "cell_type": "code",
      "metadata": {
        "id": "2jE_pYJbAr4U",
        "colab": {
          "base_uri": "https://localhost:8080/",
          "height": 409
        },
        "outputId": "6368b96a-8407-4cc0-d743-187cae52585e"
      },
      "source": [
        "# your code\n",
        "\n",
        "# my_order = df.groupby(by=[\"species\"])[\"sepal_length\"].median().iloc[::-1].index\n",
        "\n",
        "fix, ax = plt.subplots(figsize=(13,6))\n",
        "\n",
        "ord = df.groupby(by= [\"Processing.Method\"])[\"Body\"].median().sort_values().index\n",
        "\n",
        "sns.violinplot(x=\"Processing.Method\", y=\"Body\", data=df, palette='Blues', order = ord, ax=ax, cut=0)\n",
        "\n",
        "ylocs = np.linspace(0, df[\"Body\"].max(), 10)\n",
        "ylabels = [\"{:.2f}\".format(i) for i in ylocs]\n",
        "ax.set_yticks(ylocs)\n",
        "ax.set_yticklabels(ylabels)\n",
        "ax.set_xlabel(\"Processing Methods\", fontsize=12)\n",
        "ax.set_ylabel(\"Body Values\", fontsize=12)\n",
        "ax.set_title(\"Body Distribution by Processing Method\", fontsize=15)\n",
        "\n",
        "plt.grid()\n",
        "plt.show()"
      ],
      "execution_count": null,
      "outputs": [
        {
          "output_type": "display_data",
          "data": {
            "text/plain": [
              "<Figure size 936x432 with 1 Axes>"
            ],
            "image/png": "[encoded data removed]"
          },
          "metadata": {
            "needs_background": "light"
          }
        }
      ]
    },
    {
      "cell_type": "markdown",
      "metadata": {
        "id": "-x-YzF-AqEfu"
      },
      "source": [
        "# Q6: Correlation Plot for Quality Measures (15 points)"
      ]
    },
    {
      "cell_type": "markdown",
      "metadata": {
        "id": "uYBhHlrQxRsy"
      },
      "source": [
        "Now, it is time to check the correlation between each quality measure. Your task is to create a heatmap to display correlations. \n",
        "\n",
        "* You should display a colorbar right next to figure. Lower limit should be -0.25 and upper limit should be 1.0\n",
        "* Annotate the heatmap with the correlation values for each pair. \n",
        "* You can rotate the labels in X axis to prevent overlapping.\n",
        "\n",
        "The result should be exactly same as the figure below.\n",
        "\n",
        "![](https://i.ibb.co/Jvc0PKv/Screen-Shot-2021-11-09-at-16-03-42.png)"
      ]
    },
    {
      "cell_type": "code",
      "metadata": {
        "id": "EPNZNpPcxUOh",
        "colab": {
          "base_uri": "https://localhost:8080/",
          "height": 546
        },
        "outputId": "45a980de-c691-4db6-f9c7-79b5de7038b7"
      },
      "source": [
        "# your code\n",
        "\n",
        "fig, ax = plt.subplots(figsize=(10,8))\n",
        "\n",
        "\n",
        "mx = df[[\"Aroma\", \"Flavor\", \"Aftertaste\", \"Acidity\", \"Body\", \"Balance\", \"Uniformity\", \"Clean.Cup\", \"Sweetness\", \"Cupper.Points\", \"Moisture\"]].corr()\n",
        "mx = mx.round(2)\n",
        "sns.heatmap(mx, annot=True, cmap=\"Reds\", ax=ax, vmin=-0.25, vmax=1.0)\n",
        "plt.xticks(rotation=45)\n",
        "ax.set_title(\"Correlation Plor for Quality Measures\", fontsize=15)\n",
        "plt.show()"
      ],
      "execution_count": null,
      "outputs": [
        {
          "output_type": "display_data",
          "data": {
            "text/plain": [
              "<Figure size 720x576 with 2 Axes>"
            ],
            "image/png": "[encoded data removed]"
          },
          "metadata": {
            "needs_background": "light"
          }
        }
      ]
    },
    {
      "cell_type": "markdown",
      "metadata": {
        "id": "pU2WizJWxLZB"
      },
      "source": [
        "# Q7: Plotting Coffee Bean Distribution Around the World (15 points)"
      ]
    },
    {
      "cell_type": "markdown",
      "metadata": {
        "id": "5vx8_MguwMMe"
      },
      "source": [
        "In the dataset, `Country.of.Origin` column indicates the origin of each coffee bean. Your task in this question is to use `GeoPandas` library to display the frequency of coffee beans on a world map. \n",
        "\n",
        "* In the cell below, you can find a `GeoDataFrame` object that contains country names (column `name`) and geometric information (column `geometry`) for each contry. \n",
        "* Iterate over `GeoDataFrame` object. For each country, find the number of occurrence in the original dataset. (You can use `Country.of.Origin` column)\n",
        "* Lastly, plot country occurrences on a world map. Some countries in the `GeoDataFrame` object will have 0 as occurrence value since they do not exist in `Country.of.Origin` column. These countries will be automatically discarded by `GeoPandas` so they will not be shown on the world map. In order to prevent this, use `missing_kwds` parameter to set a default color for as 'lightgrey' these countries. \n",
        "\n",
        "\n",
        "The result should be exactly same as the figure below. You can use `Reds` color map. Do not forget to add legend next to the world map.\n",
        "![](https://i.ibb.co/Wv023bw/download.png)"
      ]
    },
    {
      "cell_type": "code",
      "metadata": {
        "colab": {
          "base_uri": "https://localhost:8080/",
          "height": 706
        },
        "id": "azZfqC4lxn_J",
        "outputId": "bf173971-e562-4b93-b14b-0194fe8ce672"
      },
      "source": [
        "!pip install geopandas\n",
        "\n",
        "import geopandas as gpd\n",
        "\n",
        "world = gpd.read_file(gpd.datasets.get_path('naturalearth_lowres'))\n",
        "world = world[(world.name!=\"Antarctica\")]\n",
        "world.head()"
      ],
      "execution_count": null,
      "outputs": [
        {
          "output_type": "stream",
          "name": "stdout",
          "text": [
            "Looking in indexes: https://pypi.org/simple, https://us-python.pkg.dev/colab-wheels/public/simple/\n",
            "Collecting geopandas\n",
            "  Downloading geopandas-0.10.2-py2.py3-none-any.whl (1.0 MB)\n",
            "\u001b[K     |████████████████████████████████| 1.0 MB 4.7 MB/s \n",
            "\u001b[?25hRequirement already satisfied: pandas>=0.25.0 in /usr/local/lib/python3.7/dist-packages (from geopandas) (1.3.5)\n",
            "Collecting fiona>=1.8\n",
            "  Downloading Fiona-1.8.21-cp37-cp37m-manylinux2014_x86_64.whl (16.7 MB)\n",
            "\u001b[K     |████████████████████████████████| 16.7 MB 48.3 MB/s \n",
            "\u001b[?25hCollecting pyproj>=2.2.0\n",
            "  Downloading pyproj-3.2.1-cp37-cp37m-manylinux2010_x86_64.whl (6.3 MB)\n",
            "\u001b[K     |████████████████████████████████| 6.3 MB 46.5 MB/s \n",
            "\u001b[?25hRequirement already satisfied: shapely>=1.6 in /usr/local/lib/python3.7/dist-packages (from geopandas) (1.8.2)\n",
            "Requirement already satisfied: setuptools in /usr/local/lib/python3.7/dist-packages (from fiona>=1.8->geopandas) (57.4.0)\n",
            "Requirement already satisfied: attrs>=17 in /usr/local/lib/python3.7/dist-packages (from fiona>=1.8->geopandas) (21.4.0)\n",
            "Collecting munch\n",
            "  Downloading munch-2.5.0-py2.py3-none-any.whl (10 kB)\n",
            "Requirement already satisfied: six>=1.7 in /usr/local/lib/python3.7/dist-packages (from fiona>=1.8->geopandas) (1.15.0)\n",
            "Requirement already satisfied: click>=4.0 in /usr/local/lib/python3.7/dist-packages (from fiona>=1.8->geopandas) (7.1.2)\n",
            "Collecting cligj>=0.5\n",
            "  Downloading cligj-0.7.2-py3-none-any.whl (7.1 kB)\n",
            "Collecting click-plugins>=1.0\n",
            "  Downloading click_plugins-1.1.1-py2.py3-none-any.whl (7.5 kB)\n",
            "Requirement already satisfied: certifi in /usr/local/lib/python3.7/dist-packages (from fiona>=1.8->geopandas) (2022.6.15)\n",
            "Requirement already satisfied: pytz>=2017.3 in /usr/local/lib/python3.7/dist-packages (from pandas>=0.25.0->geopandas) (2022.1)\n",
            "Requirement already satisfied: numpy>=1.17.3 in /usr/local/lib/python3.7/dist-packages (from pandas>=0.25.0->geopandas) (1.21.6)\n",
            "Requirement already satisfied: python-dateutil>=2.7.3 in /usr/local/lib/python3.7/dist-packages (from pandas>=0.25.0->geopandas) (2.8.2)\n",
            "Installing collected packages: munch, cligj, click-plugins, pyproj, fiona, geopandas\n",
            "Successfully installed click-plugins-1.1.1 cligj-0.7.2 fiona-1.8.21 geopandas-0.10.2 munch-2.5.0 pyproj-3.2.1\n"
          ]
        },
        {
          "output_type": "execute_result",
          "data": {
            "text/plain": [
              "     pop_est      continent                      name iso_a3  gdp_md_est  \\\n",
              "0     920938        Oceania                      Fiji    FJI      8374.0   \n",
              "1   53950935         Africa                  Tanzania    TZA    150600.0   \n",
              "2     603253         Africa                 W. Sahara    ESH       906.5   \n",
              "3   35623680  North America                    Canada    CAN   1674000.0   \n",
              "4  326625791  North America  United States of America    USA  18560000.0   \n",
              "\n",
              "                                            geometry  \n",
              "0  MULTIPOLYGON (((180.00000 -16.06713, 180.00000...  \n",
              "1  POLYGON ((33.90371 -0.95000, 34.07262 -1.05982...  \n",
              "2  POLYGON ((-8.66559 27.65643, -8.66512 27.58948...  \n",
              "3  MULTIPOLYGON (((-122.84000 49.00000, -122.9742...  \n",
              "4  MULTIPOLYGON (((-122.84000 49.00000, -120.0000...  "
            ],
            "text/html": [
              "\n",
              "  <div id=\"df-4c8bedfb-99fc-4a99-8c27-04574e86fc23\">\n",
              "    <div class=\"colab-df-container\">\n",
              "      <div>\n",
              "<style scoped>\n",
              "    .dataframe tbody tr th:only-of-type {\n",
              "        vertical-align: middle;\n",
              "    }\n",
              "\n",
              "    .dataframe tbody tr th {\n",
              "        vertical-align: top;\n",
              "    }\n",
              "\n",
              "    .dataframe thead th {\n",
              "        text-align: right;\n",
              "    }\n",
              "</style>\n",
              "<table border=\"1\" class=\"dataframe\">\n",
              "  <thead>\n",
              "    <tr style=\"text-align: right;\">\n",
              "      <th></th>\n",
              "      <th>pop_est</th>\n",
              "      <th>continent</th>\n",
              "      <th>name</th>\n",
              "      <th>iso_a3</th>\n",
              "      <th>gdp_md_est</th>\n",
              "      <th>geometry</th>\n",
              "    </tr>\n",
              "  </thead>\n",
              "  <tbody>\n",
              "    <tr>\n",
              "      <th>0</th>\n",
              "      <td>920938</td>\n",
              "      <td>Oceania</td>\n",
              "      <td>Fiji</td>\n",
              "      <td>FJI</td>\n",
              "      <td>8374.0</td>\n",
              "      <td>MULTIPOLYGON (((180.00000 -16.06713, 180.00000...</td>\n",
              "    </tr>\n",
              "    <tr>\n",
              "      <th>1</th>\n",
              "      <td>53950935</td>\n",
              "      <td>Africa</td>\n",
              "      <td>Tanzania</td>\n",
              "      <td>TZA</td>\n",
              "      <td>150600.0</td>\n",
              "      <td>POLYGON ((33.90371 -0.95000, 34.07262 -1.05982...</td>\n",
              "    </tr>\n",
              "    <tr>\n",
              "      <th>2</th>\n",
              "      <td>603253</td>\n",
              "      <td>Africa</td>\n",
              "      <td>W. Sahara</td>\n",
              "      <td>ESH</td>\n",
              "      <td>906.5</td>\n",
              "      <td>POLYGON ((-8.66559 27.65643, -8.66512 27.58948...</td>\n",
              "    </tr>\n",
              "    <tr>\n",
              "      <th>3</th>\n",
              "      <td>35623680</td>\n",
              "      <td>North America</td>\n",
              "      <td>Canada</td>\n",
              "      <td>CAN</td>\n",
              "      <td>1674000.0</td>\n",
              "      <td>MULTIPOLYGON (((-122.84000 49.00000, -122.9742...</td>\n",
              "    </tr>\n",
              "    <tr>\n",
              "      <th>4</th>\n",
              "      <td>326625791</td>\n",
              "      <td>North America</td>\n",
              "      <td>United States of America</td>\n",
              "      <td>USA</td>\n",
              "      <td>18560000.0</td>\n",
              "      <td>MULTIPOLYGON (((-122.84000 49.00000, -120.0000...</td>\n",
              "    </tr>\n",
              "  </tbody>\n",
              "</table>\n",
              "</div>\n",
              "      <button class=\"colab-df-convert\" onclick=\"convertToInteractive('df-4c8bedfb-99fc-4a99-8c27-04574e86fc23')\"\n",
              "              title=\"Convert this dataframe to an interactive table.\"\n",
              "              style=\"display:none;\">\n",
              "        \n",
              "  <svg xmlns=\"http://www.w3.org/2000/svg\" height=\"24px\"viewBox=\"0 0 24 24\"\n",
              "       width=\"24px\">\n",
              "    <path d=\"M0 0h24v24H0V0z\" fill=\"none\"/>\n",
              "    <path d=\"M18.56 5.44l.94 2.06.94-2.06 2.06-.94-2.06-.94-.94-2.06-.94 2.06-2.06.94zm-11 1L8.5 8.5l.94-2.06 2.06-.94-2.06-.94L8.5 2.5l-.94 2.06-2.06.94zm10 10l.94 2.06.94-2.06 2.06-.94-2.06-.94-.94-2.06-.94 2.06-2.06.94z\"/><path d=\"M17.41 7.96l-1.37-1.37c-.4-.4-.92-.59-1.43-.59-.52 0-1.04.2-1.43.59L10.3 9.45l-7.72 7.72c-.78.78-.78 2.05 0 2.83L4 21.41c.39.39.9.59 1.41.59.51 0 1.02-.2 1.41-.59l7.78-7.78 2.81-2.81c.8-.78.8-2.07 0-2.86zM5.41 20L4 18.59l7.72-7.72 1.47 1.35L5.41 20z\"/>\n",
              "  </svg>\n",
              "      </button>\n",
              "      \n",
              "  <style>\n",
              "    .colab-df-container {\n",
              "      display:flex;\n",
              "      flex-wrap:wrap;\n",
              "      gap: 12px;\n",
              "    }\n",
              "\n",
              "    .colab-df-convert {\n",
              "      background-color: #E8F0FE;\n",
              "      border: none;\n",
              "      border-radius: 50%;\n",
              "      cursor: pointer;\n",
              "      display: none;\n",
              "      fill: #1967D2;\n",
              "      height: 32px;\n",
              "      padding: 0 0 0 0;\n",
              "      width: 32px;\n",
              "    }\n",
              "\n",
              "    .colab-df-convert:hover {\n",
              "      background-color: #E2EBFA;\n",
              "      box-shadow: 0px 1px 2px rgba(60, 64, 67, 0.3), 0px 1px 3px 1px rgba(60, 64, 67, 0.15);\n",
              "      fill: #174EA6;\n",
              "    }\n",
              "\n",
              "    [theme=dark] .colab-df-convert {\n",
              "      background-color: #3B4455;\n",
              "      fill: #D2E3FC;\n",
              "    }\n",
              "\n",
              "    [theme=dark] .colab-df-convert:hover {\n",
              "      background-color: #434B5C;\n",
              "      box-shadow: 0px 1px 3px 1px rgba(0, 0, 0, 0.15);\n",
              "      filter: drop-shadow(0px 1px 2px rgba(0, 0, 0, 0.3));\n",
              "      fill: #FFFFFF;\n",
              "    }\n",
              "  </style>\n",
              "\n",
              "      <script>\n",
              "        const buttonEl =\n",
              "          document.querySelector('#df-4c8bedfb-99fc-4a99-8c27-04574e86fc23 button.colab-df-convert');\n",
              "        buttonEl.style.display =\n",
              "          google.colab.kernel.accessAllowed ? 'block' : 'none';\n",
              "\n",
              "        async function convertToInteractive(key) {\n",
              "          const element = document.querySelector('#df-4c8bedfb-99fc-4a99-8c27-04574e86fc23');\n",
              "          const dataTable =\n",
              "            await google.colab.kernel.invokeFunction('convertToInteractive',\n",
              "                                                     [key], {});\n",
              "          if (!dataTable) return;\n",
              "\n",
              "          const docLinkHtml = 'Like what you see? Visit the ' +\n",
              "            '<a target=\"_blank\" href=https://colab.research.google.com/notebooks/data_table.ipynb>data table notebook</a>'\n",
              "            + ' to learn more about interactive tables.';\n",
              "          element.innerHTML = '';\n",
              "          dataTable['output_type'] = 'display_data';\n",
              "          await google.colab.output.renderOutput(dataTable, element);\n",
              "          const docLink = document.createElement('div');\n",
              "          docLink.innerHTML = docLinkHtml;\n",
              "          element.appendChild(docLink);\n",
              "        }\n",
              "      </script>\n",
              "    </div>\n",
              "  </div>\n",
              "  "
            ]
          },
          "metadata": {},
          "execution_count": 1
        }
      ]
    },
    {
      "cell_type": "code",
      "metadata": {
        "id": "LlNYd4mY7_bP"
      },
      "source": [
        "# your code\n"
      ],
      "execution_count": null,
      "outputs": []
    }
  ]
}
